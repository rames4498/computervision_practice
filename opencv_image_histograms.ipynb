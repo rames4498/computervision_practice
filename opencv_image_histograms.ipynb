{
  "nbformat": 4,
  "nbformat_minor": 0,
  "metadata": {
    "colab": {
      "provenance": [],
      "include_colab_link": true
    },
    "kernelspec": {
      "name": "python3",
      "display_name": "Python 3"
    },
    "language_info": {
      "name": "python"
    }
  },
  "cells": [
    {
      "cell_type": "markdown",
      "metadata": {
        "id": "view-in-github",
        "colab_type": "text"
      },
      "source": [
        "<a href=\"https://colab.research.google.com/github/rames4498/computervision_practice/blob/main/opencv_image_histograms.ipynb\" target=\"_parent\"><img src=\"https://colab.research.google.com/assets/colab-badge.svg\" alt=\"Open In Colab\"/></a>"
      ]
    },
    {
      "cell_type": "markdown",
      "metadata": {
        "id": "0pL5rHGgOAMk"
      },
      "source": [
        "### Download the code zip file"
      ]
    },
    {
      "cell_type": "code",
      "metadata": {
        "id": "xIteZ4l-aUHX"
      },
      "source": [
        "!wget https://pyimagesearch-code-downloads.s3-us-west-2.amazonaws.com/opencv-image-histograms/opencv-image-histograms.zip\n",
        "!unzip -qq opencv-image-histograms.zip\n",
        "%cd opencv-image-histograms"
      ],
      "execution_count": null,
      "outputs": []
    },
    {
      "cell_type": "markdown",
      "metadata": {
        "id": "8yYRCnThOQXl"
      },
      "source": [
        "## Blog Post Code"
      ]
    },
    {
      "cell_type": "markdown",
      "metadata": {
        "id": "BcmY4DDJOSIt"
      },
      "source": [
        "### Import Packages"
      ]
    },
    {
      "cell_type": "code",
      "metadata": {
        "id": "BlcPho8lOOuF"
      },
      "source": [
        "# import the necessary packages\n",
        "import matplotlib.pyplot as plt\n",
        "import numpy as np\n",
        "import imutils\n",
        "import cv2"
      ],
      "execution_count": null,
      "outputs": []
    },
    {
      "cell_type": "markdown",
      "metadata": {
        "id": "uY1ceK63OuFY"
      },
      "source": [
        "### Function to display images in Jupyter Notebooks and Google Colab"
      ]
    },
    {
      "cell_type": "code",
      "metadata": {
        "id": "DoUa57LAeAri"
      },
      "source": [
        "def plt_imshow(title, image):\n",
        "    # convert the image frame BGR to RGB color space and display it\n",
        "    if len(image.shape) == 3:\n",
        "        image = cv2.cvtColor(image, cv2.COLOR_BGR2RGB)\n",
        "    plt.imshow(image)\n",
        "    plt.title(title)\n",
        "    plt.grid(False)\n",
        "    plt.show()"
      ],
      "execution_count": null,
      "outputs": []
    },
    {
      "cell_type": "markdown",
      "metadata": {
        "id": "iYgNuCJ1v3U8"
      },
      "source": [
        "### Creating grayscale histograms with OpenCV"
      ]
    },
    {
      "cell_type": "code",
      "metadata": {
        "id": "gkPDb7emOuwQ"
      },
      "source": [
        "def plot_histogram(image, title, mask=None):\n",
        "\t# split the image into its respective channels, then initialize\n",
        "\t# the tuple of channel names along with our figure for plotting\n",
        "\tchans = cv2.split(image)\n",
        "\tcolors = (\"b\", \"g\", \"r\")\n",
        "\tplt.figure()\n",
        "\tplt.title(title)\n",
        "\tplt.xlabel(\"Bins\")\n",
        "\tplt.ylabel(\"# of Pixels\")\n",
        "\n",
        "\t# loop over the image channels\n",
        "\tfor (chan, color) in zip(chans, colors):\n",
        "\t\t# create a histogram for the current channel and plot it\n",
        "\t\thist = cv2.calcHist([chan], [0], mask, [256], [0, 256])\n",
        "\t\tplt.plot(hist, color=color)\n",
        "\t\tplt.xlim([0, 256])\n",
        "\n",
        "\tplt.show()"
      ],
      "execution_count": null,
      "outputs": []
    },
    {
      "cell_type": "code",
      "metadata": {
        "id": "Cz3IK2-6v24m"
      },
      "source": [
        "# # construct the argument parser and parse the arguments\n",
        "# ap = argparse.ArgumentParser()\n",
        "# ap.add_argument(\"-i\", \"--image\", type=str, required=True,\n",
        "# \thelp=\"path to input image\")\n",
        "# args = vars(ap.parse_args())\n",
        "\n",
        "# since we are using Jupyter Notebooks we can replace our argument\n",
        "# parsing code with *hard coded* arguments and values\n",
        "args = {\n",
        "    \"image\": \"beach.png\"\n",
        "}"
      ],
      "execution_count": null,
      "outputs": []
    },
    {
      "cell_type": "code",
      "metadata": {
        "id": "6fGDO24RcGTZ"
      },
      "source": [
        "# load the input image and convert it to grayscale\n",
        "image = cv2.imread(args[\"image\"])\n",
        "image = cv2.cvtColor(image, cv2.COLOR_BGR2GRAY)"
      ],
      "execution_count": null,
      "outputs": []
    },
    {
      "cell_type": "code",
      "metadata": {
        "id": "Ns5rkghCcJGW"
      },
      "source": [
        "# compute a grayscale histogram\n",
        "hist = cv2.calcHist([image], [0], None, [256], [0, 256])"
      ],
      "execution_count": null,
      "outputs": []
    },
    {
      "cell_type": "code",
      "metadata": {
        "id": "-Lor4qd1cMUm"
      },
      "source": [
        "# matplotlib expects RGB images so convert and then display the image\n",
        "# with matplotlib\n",
        "plt.figure()\n",
        "plt.axis(\"off\")\n",
        "plt.imshow(cv2.cvtColor(image, cv2.COLOR_GRAY2RGB))\n",
        "\n",
        "# plot the histogram\n",
        "plt.figure()\n",
        "plt.title(\"Grayscale Histogram\")\n",
        "plt.xlabel(\"Bins\")\n",
        "plt.ylabel(\"# of Pixels\")\n",
        "plt.plot(hist)\n",
        "plt.xlim([0, 256])"
      ],
      "execution_count": null,
      "outputs": []
    },
    {
      "cell_type": "code",
      "metadata": {
        "id": "871JJ9n5cPM-"
      },
      "source": [
        "# normalize the histogram\n",
        "hist /= hist.sum()\n",
        "\n",
        "# plot the normalized histogram\n",
        "plt.figure()\n",
        "plt.title(\"Grayscale Histogram (Normalized)\")\n",
        "plt.xlabel(\"Bins\")\n",
        "plt.ylabel(\"% of Pixels\")\n",
        "plt.plot(hist)\n",
        "plt.xlim([0, 256])\n",
        "plt.show()"
      ],
      "execution_count": null,
      "outputs": []
    },
    {
      "cell_type": "markdown",
      "metadata": {
        "id": "4wgNNHqmcaQO"
      },
      "source": [
        "### Creating color histograms with OpenCV"
      ]
    },
    {
      "cell_type": "code",
      "metadata": {
        "id": "KlZ0g2X9c6r8"
      },
      "source": [
        "# load the input image from disk\n",
        "image = cv2.imread(args[\"image\"])"
      ],
      "execution_count": null,
      "outputs": []
    },
    {
      "cell_type": "code",
      "metadata": {
        "id": "XO1Z9gJrcS9J"
      },
      "source": [
        "# split the image into its respective channels, then initialize the\n",
        "# tuple of channel names along with our figure for plotting\n",
        "chans = cv2.split(image)\n",
        "colors = (\"b\", \"g\", \"r\")\n",
        "plt.figure()\n",
        "plt.title(\"'Flattened' Color Histogram\")\n",
        "plt.xlabel(\"Bins\")\n",
        "plt.ylabel(\"# of Pixels\")\n",
        "\n",
        "# loop over the image channels\n",
        "for (chan, color) in zip(chans, colors):\n",
        "\t# create a histogram for the current channel and plot it\n",
        "\thist = cv2.calcHist([chan], [0], None, [256], [0, 256])\n",
        "\tplt.plot(hist, color=color)\n",
        "\tplt.xlim([0, 256])"
      ],
      "execution_count": null,
      "outputs": []
    },
    {
      "cell_type": "code",
      "metadata": {
        "id": "6QIq9FnYcfce"
      },
      "source": [
        "# create a new figure and then plot a 2D color histogram for the\n",
        "# green and blue channels\n",
        "fig = plt.figure(figsize=(15, 25))\n",
        "ax = fig.add_subplot(131)\n",
        "hist = cv2.calcHist([chans[1], chans[0]], [0, 1], None, [32, 32],\n",
        "\t[0, 256, 0, 256])\n",
        "p = ax.imshow(hist, interpolation=\"nearest\")\n",
        "ax.set_title(\"2D Color Histogram for G and B\")\n",
        "plt.colorbar(p)\n",
        "\n",
        "# plot a 2D color histogram for the green and red channels\n",
        "ax = fig.add_subplot(132)\n",
        "hist = cv2.calcHist([chans[1], chans[2]], [0, 1], None, [32, 32],\n",
        "\t[0, 256, 0, 256])\n",
        "p = ax.imshow(hist, interpolation=\"nearest\")\n",
        "ax.set_title(\"2D Color Histogram for G and R\")\n",
        "plt.colorbar(p)\n",
        "\n",
        "# plot a 2D color histogram for blue and red channels\n",
        "ax = fig.add_subplot(133)\n",
        "hist = cv2.calcHist([chans[0], chans[2]], [0, 1], None, [32, 32],\n",
        "\t[0, 256, 0, 256])\n",
        "p = ax.imshow(hist, interpolation=\"nearest\")\n",
        "ax.set_title(\"2D Color Histogram for B and R\")\n",
        "plt.colorbar(p)\n",
        "\n",
        "# finally, let's examine the dimensionality of one of the 2D\n",
        "# histograms\n",
        "print(\"2D histogram shape: {}, with {} values\".format(\n",
        "\thist.shape, hist.flatten().shape[0]))"
      ],
      "execution_count": null,
      "outputs": []
    },
    {
      "cell_type": "code",
      "metadata": {
        "id": "9yFU6L7qcmvG"
      },
      "source": [
        "# our 2D histogram could only take into account 2 out of the 3\n",
        "# channels in the image so now let's build a 3D color histogram\n",
        "# (utilizing all channels) with 8 bins in each direction -- we\n",
        "# can't plot the 3D histogram, but the theory is exactly like\n",
        "# that of a 2D histogram, so we'll just show the shape of the\n",
        "# histogram\n",
        "hist = cv2.calcHist([image], [0, 1, 2],\n",
        "\tNone, [8, 8, 8], [0, 256, 0, 256, 0, 256])\n",
        "print(\"3D histogram shape: {}, with {} values\".format(\n",
        "\thist.shape, hist.flatten().shape[0]))"
      ],
      "execution_count": null,
      "outputs": []
    },
    {
      "cell_type": "code",
      "metadata": {
        "id": "c_nprkTKdj5V"
      },
      "source": [
        "# display the original input image\n",
        "plt.figure()\n",
        "plt.axis(\"off\")\n",
        "plt.imshow(imutils.opencv2matplotlib(image))\n",
        "\n",
        "# show our plots\n",
        "plt.show()"
      ],
      "execution_count": null,
      "outputs": []
    },
    {
      "cell_type": "markdown",
      "metadata": {
        "id": "TtLw3oSndrux"
      },
      "source": [
        "### Computing image histograms for masked regions with OpenCV"
      ]
    },
    {
      "cell_type": "code",
      "metadata": {
        "id": "HTp1rzAbdl_c"
      },
      "source": [
        "# load the beach image and plot a histogram for it\n",
        "image = cv2.imread(\"beach.png\")\n",
        "plot_histogram(image, \"Histogram for Original Image\")\n",
        "plt_imshow(\"Original\", image)"
      ],
      "execution_count": null,
      "outputs": []
    },
    {
      "cell_type": "code",
      "metadata": {
        "id": "SUTehfUUefsI"
      },
      "source": [
        "# construct a mask for our image; our mask will be *black* for regions\n",
        "# we want to *ignore* and *white* for regions we want to *examine*\n",
        "mask = np.zeros(image.shape[:2], dtype=\"uint8\")\n",
        "cv2.rectangle(mask, (60, 290), (210, 390), 255, -1)\n",
        "plt_imshow(\"Mask\", mask)\n",
        "\n",
        "# display the masked region\n",
        "masked = cv2.bitwise_and(image, image, mask=mask)\n",
        "plt_imshow(\"Applying the Mask\", masked)\n",
        "\n",
        "# compute a histogram for our image, but we'll only include pixels in\n",
        "# the masked region\n",
        "plot_histogram(image, \"Histogram for Masked Image\", mask=mask)\n",
        "\n",
        "# show our plots\n",
        "plt.show()"
      ],
      "execution_count": null,
      "outputs": []
    },
    {
      "cell_type": "markdown",
      "metadata": {
        "id": "iIK0y_52aETm"
      },
      "source": [
        "For a detailed walkthrough of the concepts and code, be sure to refer to the full tutorial, [OpenCV Image Histograms ( cv2.calcHist )](https://www.pyimagesearch.com/2021/04/28/opencv-image-histograms-cv2-calchist/) published on 04-28-21."
      ]
    }
  ]
}